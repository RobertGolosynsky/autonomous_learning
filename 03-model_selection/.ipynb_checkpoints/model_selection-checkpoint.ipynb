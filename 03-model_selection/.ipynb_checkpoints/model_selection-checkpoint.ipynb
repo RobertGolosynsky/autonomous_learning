{
 "cells": [
  {
   "cell_type": "markdown",
   "metadata": {},
   "source": [
    "# Model Selection"
   ]
  },
  {
   "cell_type": "code",
   "execution_count": 85,
   "metadata": {},
   "outputs": [],
   "source": [
    "import numpy as np\n",
    "import pylab as plt\n",
    "from sklearn import datasets\n",
    "from scipy.stats import norm, t, ttest_rel, friedmanchisquare\n",
    "from sklearn.utils import resample\n",
    "from sklearn.neighbors.kde import KernelDensity\n",
    "from sklearn.manifold import TSNE\n",
    "from sklearn.tree import DecisionTreeClassifier\n",
    "from sklearn.svm import SVC\n",
    "from sklearn.model_selection import KFold\n",
    "from sklearn.ensemble import RandomForestClassifier\n",
    "from sklearn.neighbors import KNeighborsClassifier"
   ]
  },
  {
   "cell_type": "markdown",
   "metadata": {},
   "source": [
    "## 1. Comparison of different algorithms\n",
    "\n",
    "Compare a **decision tree** classifier with a **support vector machine** classifier with its default parameters on the datasets *iris* and *wine*. \n",
    "\n",
    "Use a **2-matched pairs t test**.\n"
   ]
  },
  {
   "cell_type": "code",
   "execution_count": 3,
   "metadata": {},
   "outputs": [],
   "source": [
    "iris = datasets.load_iris()\n",
    "wine = datasets.load_wine()"
   ]
  },
  {
   "cell_type": "code",
   "execution_count": 4,
   "metadata": {},
   "outputs": [],
   "source": [
    "all_datasets = [iris,\n",
    "                wine]\n",
    "\n",
    "clfs = [DecisionTreeClassifier(),\n",
    "        SVC()]\n"
   ]
  },
  {
   "cell_type": "code",
   "execution_count": 5,
   "metadata": {},
   "outputs": [],
   "source": [
    "all_dataset_names = [ds.DESCR.split()[0] for ds in all_datasets]\n",
    "clf_names = [str(clf).split('(')[0][:12] for clf in clfs]"
   ]
  },
  {
   "cell_type": "markdown",
   "metadata": {},
   "source": [
    "## Dataset Visualization"
   ]
  },
  {
   "cell_type": "code",
   "execution_count": 6,
   "metadata": {},
   "outputs": [],
   "source": [
    "X_TSNE = [TSNE(n_components=2).fit_transform(DS.data) for DS in all_datasets]"
   ]
  },
  {
   "cell_type": "code",
   "execution_count": 6,
   "metadata": {},
   "outputs": [
    {
     "data": {
      "image/png": "[encoded data removed]",
      "text/plain": [
       "<Figure size 576x360 with 2 Axes>"
      ]
     },
     "metadata": {},
     "output_type": "display_data"
    }
   ],
   "source": [
    "plt.figure(figsize=(len(all_datasets)*4,5))\n",
    "for i in range(len(all_datasets)):\n",
    "    plt.subplot(1,len(all_datasets),i+1)\n",
    "    plt.scatter(X_TSNE[i][:,0], X_TSNE[i][:,1], s=20, c=all_datasets[i].target)\n",
    "    plt.title(all_dataset_names[i])\n",
    "plt.show()"
   ]
  },
  {
   "cell_type": "code",
   "execution_count": 7,
   "metadata": {},
   "outputs": [],
   "source": [
    "# YOUR CODE HERE\n",
    "\n",
    "def accuracy(clf, X, y, train_idx, test_idx):\n",
    "    X_train, X_test = X[train_idx], X[test_idx]\n",
    "    y_train, y_test = y[train_idx], y[test_idx]\n",
    "    clf.fit(X_train, y_train)\n",
    "    y_predict = clf.predict(X_test)\n",
    "    wrong_labels = np.count_nonzero(y_predict-y_test)\n",
    "    accuracy = 1 - wrong_labels/len(y_test)\n",
    "    return accuracy\n",
    "\n",
    "def k_fold_scores(clf, dataset, n_fold):\n",
    "    kfold = KFold(n_splits=n_fold, shuffle=True, random_state=42)\n",
    "    X = dataset.data\n",
    "    y = dataset.target\n",
    "    return np.array([ accuracy(clf, X, y, train_idx, test_idx) for train_idx, test_idx in kfold.split(X)])\n",
    "    \n",
    "def df(s1, s2, n):\n",
    "    numerator = (s1**2 + s2**2)**2\n",
    "    denumerator = s1**4 + s2**4\n",
    "    return (n-1) * numerator / denumerator \n",
    "        \n",
    "    \n",
    "\n",
    "    \n",
    "n_folds = 10\n",
    "\n",
    "acc1 = k_fold_scores(DecisionTreeClassifier(), wine, n_folds)\n",
    "acc2 = k_fold_scores(KNeighborsClassifier(), wine, n_folds)\n"
   ]
  },
  {
   "cell_type": "code",
   "execution_count": 193,
   "metadata": {
    "scrolled": true
   },
   "outputs": [],
   "source": [
    "def p_value(a,b):\n",
    "    d = a-b \n",
    "    n = len(d)\n",
    "    se_d = np.std(d, ddof=1)/np.sqrt(n) \n",
    "    t_val = np.mean(d)/se_d \n",
    "    rv = t(n-1)\n",
    "    return rv.sf(t_val)\n",
    "\n",
    "#     t1, p1 = ttest_rel(acc1, acc2)\n",
    "\n",
    "#     print(\"t: \", t1 , \" p: \", p1)\n"
   ]
  },
  {
   "cell_type": "code",
   "execution_count": 204,
   "metadata": {},
   "outputs": [
    {
     "name": "stdout",
     "output_type": "stream",
     "text": [
      "With probability 0.02 DecisionTree has better accuracy then SVC in dataset Iris\n",
      "With probability 1.00 DecisionTree has better accuracy then SVC in dataset Wine\n"
     ]
    }
   ],
   "source": [
    "for ds in all_datasets:\n",
    "    a, b = [k_fold_scores(clf, ds, n_folds) for clf in clfs]\n",
    "    ds_name = ds.DESCR.split()[0]\n",
    "    p_val = p_value(b,a)\n",
    "    print(\n",
    "        \"With probability {:.2f} {} has better accuracy then {} in dataset {}\".format(\n",
    "            p_val, clf_names[0], clf_names[1], ds_name\n",
    "        )\n",
    "    )"
   ]
  },
  {
   "cell_type": "markdown",
   "metadata": {},
   "source": [
    "## 2. Hyperparameter Tuning\n",
    "We recognized a poor performance when using the SVC on the wine dataset. Perform a *Grid Search* to find the best values for the hyperparameters $C$ and $\\gamma$.\n"
   ]
  },
  {
   "cell_type": "code",
   "execution_count": 224,
   "metadata": {},
   "outputs": [
    {
     "name": "stdout",
     "output_type": "stream",
     "text": [
      "{'C': 2.0, 'gamma': 2.0}\n",
      "0.9662921348314607\n"
     ]
    }
   ],
   "source": [
    "# YOUR CODE HERE\n",
    "from sklearn.model_selection import GridSearchCV\n",
    "gamma = np.logspace(1, 10, num=5, base=2)\n",
    "C = np.logspace(1, 10, num=5, base=2)\n",
    "params = {'gamma':gamma, 'C':C}\n",
    "search = GridSearchCV(SVC(kernel=\"linear\"), params, cv=n_folds,scoring = 'accuracy')\n",
    "search.fit(wine.data, wine.target)\n",
    "print(search.best_params_)\n",
    "print(search.best_score_)"
   ]
  },
  {
   "cell_type": "markdown",
   "metadata": {},
   "source": [
    "# 3. Comparison of different algorithms\n",
    "Compare the four algorithms: SVC, DecisionTreeClassifier, RandomForestClassifier, KNeighborsClassifier on the datasets iris, wine and breast_cancer. \n",
    "\n",
    "Get to know the **Friedman test** and apply it.\n"
   ]
  },
  {
   "cell_type": "code",
   "execution_count": 109,
   "metadata": {},
   "outputs": [
    {
     "name": "stdout",
     "output_type": "stream",
     "text": [
      "[[9.40000000e-01 9.73333333e-01 9.53333333e-01 9.73333333e-01\n",
      "  7.27500000e+00 6.36304118e-02]\n",
      " [8.87581699e-01 4.27124183e-01 9.61111111e-01 6.64052288e-01\n",
      "  2.74948454e+01 4.63604792e-06]\n",
      " [9.33145363e-01 6.27474937e-01 9.55921053e-01 9.36654135e-01\n",
      "  2.13473684e+01 8.91591712e-05]]\n"
     ]
    }
   ],
   "source": [
    "iris = datasets.load_iris()\n",
    "wine = datasets.load_wine()\n",
    "breast_cancer = datasets.load_breast_cancer()\n",
    "\n",
    "all_datasets = [\n",
    "    iris,\n",
    "    wine,\n",
    "    breast_cancer\n",
    "]\n",
    "\n",
    "clfs = [\n",
    "    DecisionTreeClassifier(),\n",
    "    SVC(),\n",
    "    RandomForestClassifier(),\n",
    "    KNeighborsClassifier()\n",
    "]\n",
    "\n",
    "def row_to_scores(row):\n",
    "    print(row)\n",
    "    st = np.stack((row,row,row,row))\n",
    "    print(st.T)\n",
    "    d = st.T-row\n",
    "    print(d)\n",
    "    print(np.where(d == 0))\n",
    "    \n",
    "\n",
    "\n",
    "def fridman_test(a):\n",
    "#     print(a)\n",
    "    row_to_scores(a[1])\n",
    "\n",
    "\n",
    "acc = np.array( [ [ k_fold_scores(clf, ds, n_folds) for clf in clfs] for ds in all_datasets ])\n",
    "\n",
    "means = np.mean(acc, axis=2)\n",
    "\n",
    "tests = [friedmanchisquare(*mes) for mes in acc] \n",
    "print(np.concatenate((means, tests), axis = 1))\n",
    "\n",
    "\n"
   ]
  },
  {
   "cell_type": "code",
   "execution_count": 48,
   "metadata": {},
   "outputs": [
    {
     "name": "stdout",
     "output_type": "stream",
     "text": [
      "[[1 4]\n",
      " [3 1]\n",
      " [2 2]]\n",
      "[[1 4]\n",
      " [2 2]\n",
      " [3 1]]\n"
     ]
    }
   ],
   "source": [
    "# YOUR CODE HERE\n"
   ]
  },
  {
   "cell_type": "code",
   "execution_count": null,
   "metadata": {},
   "outputs": [],
   "source": []
  }
 ],
 "metadata": {
  "kernelspec": {
   "display_name": "Python 3",
   "language": "python",
   "name": "python3"
  },
  "language_info": {
   "codemirror_mode": {
    "name": "ipython",
    "version": 3
   },
   "file_extension": ".py",
   "mimetype": "text/x-python",
   "name": "python",
   "nbconvert_exporter": "python",
   "pygments_lexer": "ipython3",
   "version": "3.6.5"
  },
  "latex_envs": {
   "LaTeX_envs_menu_present": true,
   "autoclose": false,
   "autocomplete": true,
   "bibliofile": "biblio.bib",
   "cite_by": "apalike",
   "current_citInitial": 1,
   "eqLabelWithNumbers": true,
   "eqNumInitial": 1,
   "hotkeys": {
    "equation": "Ctrl-E",
    "itemize": "Ctrl-I"
   },
   "labels_anchors": false,
   "latex_user_defs": false,
   "report_style_numbering": false,
   "user_envs_cfg": false
  }
 },
 "nbformat": 4,
 "nbformat_minor": 2
}
